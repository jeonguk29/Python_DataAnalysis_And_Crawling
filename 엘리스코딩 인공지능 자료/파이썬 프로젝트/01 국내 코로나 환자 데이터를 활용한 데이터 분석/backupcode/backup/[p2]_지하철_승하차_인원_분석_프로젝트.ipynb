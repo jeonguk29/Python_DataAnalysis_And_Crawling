{
 "cells": [
  {
   "cell_type": "markdown",
   "metadata": {},
   "source": [
    "# [Project 2] 지하철 승하차 인원 분석"
   ]
  },
  {
   "cell_type": "markdown",
   "metadata": {},
   "source": [
    "---"
   ]
  },
  {
   "cell_type": "markdown",
   "metadata": {},
   "source": [
    "## 프로젝트 목표"
   ]
  },
  {
   "cell_type": "markdown",
   "metadata": {},
   "source": [
    "- 승차 또는 하차 시 해당 시간, 해당 역의 승객 수를 확인하기 위해 **개찰구 통과 승객 수** 데이터와 **지하철 위치좌표** 데이터를 활용\n",
    "- 탐색적 데이터 분석을 수행하기 위한 데이터 정제, 특성 엔지니어링, 시각화 방법 학습"
   ]
  },
  {
   "cell_type": "markdown",
   "metadata": {},
   "source": [
    "---"
   ]
  },
  {
   "cell_type": "markdown",
   "metadata": {},
   "source": [
    "## 프로젝트 목차\n",
    "1. **데이터 읽기:** 승하차 인원 정보 데이터를 불러오고 DataFrame 구조를 확인<br>\n",
    "    1.1. 데이터 불러오기<br>\n",
    "    1.2. 데이터 확인하기<br>\n",
    "<br>\n",
    "2. **데이터 정제:** 데이터 확인 후 형 변환 및 이상치 데이터 처리<br>\n",
    "    2.1. 2021년 6월 승하차 인원만 추출<br>\n",
    "<br>\n",
    "3. **데이터 시각화:** 각 변수별로 추가적인 정제 또는 feature engineering 과정을 거치고 시각화를 총해 데이터 특성 파악<br>\n",
    "    3.1. 호선 별 이용객 수 출력<br>\n",
    "    3.2. 특정 호선에서 역별 평균 승하차 인원 데이터 추출<br>\n",
    "    3.3. 평균 승하차 인원 수 내림차순으로 막대그래프 출력<br>\n",
    "    3.4. 특정 호선의 혼잡 정도와 위치좌표 데이터 병합<br>\n",
    "    3.5. 특정 호선의 혼잡 정도를 지도에 출력<br>"
   ]
  },
  {
   "cell_type": "markdown",
   "metadata": {},
   "source": [
    "---"
   ]
  },
  {
   "cell_type": "markdown",
   "metadata": {},
   "source": [
    "## 데이터 출처\n",
    "- 서울시 지하철 호선별 역별 승하차 인원 정보 데이터: http://data.seoul.go.kr/dataList/OA-12252/S/1/datasetView.do"
   ]
  },
  {
   "cell_type": "markdown",
   "metadata": {},
   "source": [
    "---"
   ]
  },
  {
   "cell_type": "markdown",
   "metadata": {},
   "source": [
    "## 프로젝트 개요"
   ]
  },
  {
   "cell_type": "markdown",
   "metadata": {},
   "source": [
    "코로나 시국에 익숙해졌다고는 하지만 가끔 밖으로 나갈 때 사람 많은 곳은 피하고 싶은 생각에 어떤 장소를 피해야 하는지 알아보고 싶을 때가 있을 겁니다. 지하철 이용 승객 수를 확인해보면 혼잡도가 높은 지역을 확인해볼 수 있을 것 같습니다.\n",
    "\n",
    "이번 프로젝트에서는 서울 열린 데이터 광장에서 제공하는 `서울시 지하철 호선별 역별 승하차 인원 정보` 데이터를 분석하고 `지하철 역 위치 좌표` 데이터를 활용해 특정 호선에서 어떤 역이 가장 혼잡한지 직관적으로 확인해봅시다."
   ]
  },
  {
   "cell_type": "markdown",
   "metadata": {},
   "source": [
    "---"
   ]
  },
  {
   "cell_type": "markdown",
   "metadata": {},
   "source": [
    " "
   ]
  },
  {
   "cell_type": "markdown",
   "metadata": {},
   "source": [
    "## 1. 데이터 읽기"
   ]
  },
  {
   "cell_type": "markdown",
   "metadata": {},
   "source": [
    "필요한 패키지 설치 및 `import`한 후 `pandas`를 사용하여 데이터를 읽고 어떠한 데이터가 저장되어 있는지 확인합니다."
   ]
  },
  {
   "cell_type": "markdown",
   "metadata": {},
   "source": [
    "### 1.1. 데이터 불러오기"
   ]
  },
  {
   "cell_type": "code",
   "execution_count": null,
   "metadata": {},
   "outputs": [],
   "source": [
    "import numpy as np \n",
    "import pandas as pd \n",
    "import matplotlib.pyplot as plt"
   ]
  },
  {
   "cell_type": "markdown",
   "metadata": {},
   "source": [
    "먼저, 서울시 지하철 호선별 역별 승하차 인원 정보 데이터를 불러와 `metro_all`에 저장합니다."
   ]
  },
  {
   "cell_type": "code",
   "execution_count": null,
   "metadata": {},
   "outputs": [],
   "source": [
    "# pd.read_csv를 통하여 승하차 인원 정보 데이터를 데이터프레임 형태로 읽어옵니다.\n",
    "metro_all = pd.read_csv(\"./data/서울시 지하철 호선별 역별 시간대별 승하차 인원 정보_20210705.csv\", encoding = 'cp949')"
   ]
  },
  {
   "cell_type": "code",
   "execution_count": null,
   "metadata": {
    "scrolled": true
   },
   "outputs": [],
   "source": [
    "# 승하차 인원 정보 상위 5개 데이터를 출력합니다.\n",
    "metro_all.head()"
   ]
  },
  {
   "cell_type": "code",
   "execution_count": null,
   "metadata": {
    "scrolled": true
   },
   "outputs": [],
   "source": [
    "# 승하차 인원 정보 데이터프레임 정보를 요약하여 출력합니다. \n",
    "metro_all.info()"
   ]
  },
  {
   "cell_type": "markdown",
   "metadata": {},
   "source": [
    " "
   ]
  },
  {
   "cell_type": "markdown",
   "metadata": {},
   "source": [
    "### 1.2. 데이터 확인하기"
   ]
  },
  {
   "cell_type": "markdown",
   "metadata": {},
   "source": [
    "불러온 두 데이터프레임의 특정 컬럼 데이터를 **중복없이 오름차순 정렬하여** 확인해봅시다."
   ]
  },
  {
   "cell_type": "code",
   "execution_count": null,
   "metadata": {
    "scrolled": true
   },
   "outputs": [],
   "source": [
    "# metro_all DataFrame 사용월 데이터 확인\n",
    "sorted(list(set(metro_all['사용월'])))"
   ]
  },
  {
   "cell_type": "code",
   "execution_count": null,
   "metadata": {
    "scrolled": true
   },
   "outputs": [],
   "source": [
    "# metro_all DataFrame 호선명 데이터 확인\n",
    "sorted(list(set(metro_all['호선명'])))"
   ]
  },
  {
   "cell_type": "code",
   "execution_count": null,
   "metadata": {},
   "outputs": [],
   "source": [
    "# DataFrame 지하철역 데이터 확인\n",
    "sorted(list(set(metro_all['지하철역'])))"
   ]
  },
  {
   "cell_type": "code",
   "execution_count": null,
   "metadata": {
    "scrolled": true
   },
   "outputs": [],
   "source": [
    "# DataFrame 지하철역 데이터 개수 확인\n",
    "len(list(set(metro_all['지하철역'])))"
   ]
  },
  {
   "cell_type": "markdown",
   "metadata": {},
   "source": [
    "--- "
   ]
  },
  {
   "cell_type": "markdown",
   "metadata": {},
   "source": [
    "## 2. 데이터 정제"
   ]
  },
  {
   "cell_type": "markdown",
   "metadata": {},
   "source": [
    "데이터를 확인해보니 2015년 1월부터 2021년 6월까지 수집된 데이터인 것을 알 수 있습니다.\n",
    "\n",
    "이번 프로젝트에서는 **가장 최근 한달간 수집된 데이터**를 기준으로 특정 호선에서 어떤 역이 가장 혼잡한지 확인하고자 합니다."
   ]
  },
  {
   "cell_type": "markdown",
   "metadata": {},
   "source": [
    "### 2.1. 2021년 6월 승하차 인원만 추출"
   ]
  },
  {
   "cell_type": "markdown",
   "metadata": {},
   "source": [
    "수집된 데이터 중 가장 최근인 6월에 수집한 데이터만 추출하고 불필요한 컬럼을 제거해봅시다."
   ]
  },
  {
   "cell_type": "code",
   "execution_count": null,
   "metadata": {
    "scrolled": true
   },
   "outputs": [],
   "source": [
    "# 2021년 6월 총 승객수만 추출\n",
    "metro_recent = metro_all[metro_all['사용월']==202106]\n",
    "metro_recent"
   ]
  },
  {
   "cell_type": "code",
   "execution_count": null,
   "metadata": {
    "scrolled": true
   },
   "outputs": [],
   "source": [
    "# 불필요한 작업일자 컬럼 제거\n",
    "metro_recent = metro_recent.drop(columns={'작업일자'})\n",
    "metro_recent"
   ]
  },
  {
   "cell_type": "markdown",
   "metadata": {},
   "source": [
    "---"
   ]
  },
  {
   "cell_type": "markdown",
   "metadata": {},
   "source": [
    "## 3. 데이터 시각화"
   ]
  },
  {
   "cell_type": "markdown",
   "metadata": {},
   "source": [
    "2021년 6월 데이터만 추출한 `metro_recent`를 활용하여 다양한 데이터 시각화 및 혼잡도 분석을 진행해봅시다."
   ]
  },
  {
   "cell_type": "markdown",
   "metadata": {},
   "source": [
    "### 3.1. 호선 별 이용객 수 출력"
   ]
  },
  {
   "cell_type": "markdown",
   "metadata": {},
   "source": [
    "추출한 `metro_recent` 데이터를 활용해 이용객 수가 가장 많은 호선 순으로 막대그래프를 출력해 보겠습니다."
   ]
  },
  {
   "cell_type": "code",
   "execution_count": null,
   "metadata": {},
   "outputs": [],
   "source": [
    "import matplotlib.font_manager as fm\n",
    "\n",
    "font_dirs = ['/usr/share/fonts/truetype/nanum', ]\n",
    "font_files = fm.findSystemFonts(fontpaths=font_dirs)\n",
    "\n",
    "for font_file in font_files:\n",
    "    fm.fontManager.addfont(font_file)"
   ]
  },
  {
   "cell_type": "code",
   "execution_count": null,
   "metadata": {},
   "outputs": [],
   "source": [
    "metro_line = metro_recent.groupby(['호선명']).mean().reset_index()\n",
    "metro_line = metro_line.drop(columns='사용월').set_index('호선명')\n",
    "metro_line = metro_line.mean(axis=1).sort_values(ascending=False)\n",
    "\n",
    "plt.figure(figsize=(20,10))\n",
    "plt.rc('font', family=\"NanumBarunGothic\")\n",
    "plt.rcParams['axes.unicode_minus'] = False\n",
    "\n",
    "metro_line.plot(kind=('bar'))\n",
    "plt.show()"
   ]
  },
  {
   "cell_type": "markdown",
   "metadata": {},
   "source": [
    "### 3.2. 특정 호선에서 역별 평균 승하차 인원 데이터 추출"
   ]
  },
  {
   "cell_type": "markdown",
   "metadata": {},
   "source": [
    "다양한 호선에서 역별 평균 승하차 인원이 많은 역은 어디일까요? 이용객이 가장 많은 2호선 기준으로 확인해봅시다."
   ]
  },
  {
   "cell_type": "code",
   "execution_count": null,
   "metadata": {
    "scrolled": true
   },
   "outputs": [],
   "source": [
    "line = '2호선'\n",
    "metro_st = metro_recent.groupby(['호선명','지하철역']).mean().reset_index()\n",
    "metro_st_line2 = metro_st[metro_st['호선명']==line]\n",
    "metro_st_line2"
   ]
  },
  {
   "cell_type": "code",
   "execution_count": null,
   "metadata": {
    "scrolled": true
   },
   "outputs": [],
   "source": [
    "# 승차 인원 컬럼만 추출\n",
    "metro_get_on = pd.DataFrame()\n",
    "metro_get_on['지하철역'] = metro_st_line2['지하철역']\n",
    "for i in range(int((len(metro_recent.columns)-3)/2)):\n",
    "    metro_get_on[metro_st_line2.columns[3+2*i]] = metro_st_line2[metro_st_line2.columns[3+2*i]]\n",
    "metro_get_on = metro_get_on.set_index('지하철역')\n",
    "metro_get_on"
   ]
  },
  {
   "cell_type": "code",
   "execution_count": null,
   "metadata": {
    "scrolled": true
   },
   "outputs": [],
   "source": [
    "# 하차 인원 컬럼만 추출\n",
    "metro_get_off = pd.DataFrame()\n",
    "metro_get_off['지하철역'] = metro_st_line2['지하철역']\n",
    "for i in range(int((len(metro_recent.columns)-3)/2)):\n",
    "    metro_get_off[metro_st_line2.columns[4+2*i]] = metro_st_line2[metro_st_line2.columns[4+2*i]]\n",
    "metro_get_off = metro_get_off.set_index('지하철역')\n",
    "metro_get_off"
   ]
  },
  {
   "cell_type": "code",
   "execution_count": null,
   "metadata": {
    "scrolled": true
   },
   "outputs": [],
   "source": [
    "# 역 별 평균 승하차 인원을 구한 후 정수로 형 변환하여 데이터프레임으로 저장\n",
    "df = pd.DataFrame(index = metro_st_line2['지하철역'])\n",
    "df['평균 승차 인원 수'] = metro_get_on.mean(axis=1).astype(int)\n",
    "df['평균 하차 인원 수'] = metro_get_off.mean(axis=1).astype(int)\n",
    "df"
   ]
  },
  {
   "cell_type": "markdown",
   "metadata": {},
   "source": [
    "### 3.3. 평균 승하차 인원 수 내림차순으로 막대그래프 출력"
   ]
  },
  {
   "cell_type": "markdown",
   "metadata": {},
   "source": [
    "2호선 기준 6월 한 달간 **강남 > 잠실 > 신림 > 구로디지털단지 > 홍대입구 > 선릉** 순으로 평균 승차 인원이 많았습니다."
   ]
  },
  {
   "cell_type": "code",
   "execution_count": null,
   "metadata": {},
   "outputs": [],
   "source": [
    "# 승차 인원 수 Top10 \n",
    "top10_on = df.sort_values(by='평균 승차 인원 수', ascending=False).head(10)\n",
    "\n",
    "plt.figure(figsize=(20,10))\n",
    "plt.rc('font', family=\"NanumBarunGothic\")\n",
    "plt.rcParams['axes.unicode_minus'] = False\n",
    "\n",
    "plt.bar(top10_on.index, top10_on['평균 승차 인원 수'])\n",
    "for x, y in enumerate(list(top10_on['평균 승차 인원 수'])):\n",
    "    if x == 0:\n",
    "        plt.annotate(y, (x-0.15, y), color = 'red')\n",
    "    else:\n",
    "        plt.annotate(y, (x-0.15, y))\n",
    "\n",
    "plt.title('2021년 6월 평균 승차 인원 수 Top10')\n",
    "plt.show()"
   ]
  },
  {
   "cell_type": "markdown",
   "metadata": {},
   "source": [
    "평균 하차 인원은 거의 동일하게 **강남 > 잠실 > 신림 > 구로디지털단지 > 홍대입구 > 역삼** 순으로 많았습니다."
   ]
  },
  {
   "cell_type": "code",
   "execution_count": null,
   "metadata": {
    "scrolled": false
   },
   "outputs": [],
   "source": [
    "# 하차 인원 수 Top10\n",
    "top10_off = df.sort_values(by='평균 하차 인원 수', ascending=False).head(10)\n",
    "\n",
    "plt.figure(figsize=(20,10))\n",
    "plt.rc('font', family=\"NanumBarunGothic\")\n",
    "plt.rcParams['axes.unicode_minus'] = False\n",
    "\n",
    "plt.bar(top10_off.index, top10_off['평균 하차 인원 수'])\n",
    "for x, y in enumerate(list(top10_off['평균 하차 인원 수'])):\n",
    "    if x == 0:\n",
    "        plt.annotate(y, (x-0.15, y), color = 'red')\n",
    "    else:\n",
    "        plt.annotate(y, (x-0.15, y))\n",
    "\n",
    "plt.title('2021년 6월 평균 하차 인원 수 Top10')\n",
    "plt.show()"
   ]
  },
  {
   "cell_type": "markdown",
   "metadata": {},
   "source": [
    "**퀴즈1. 6호선의 지하철 역 중에서 승차 인원수가 가장 많은 역명을 구하세요.**"
   ]
  },
  {
   "cell_type": "code",
   "execution_count": null,
   "metadata": {},
   "outputs": [],
   "source": [
    "# 3.2.의 첫 번째 셀에서 line값만 수정한 후 \n",
    "# 3.2.와 3.3. 코드를 순서대로 다시 실행해보면 답을 구할 수 있습니다.\n",
    "\n"
   ]
  },
  {
   "cell_type": "code",
   "execution_count": null,
   "metadata": {},
   "outputs": [],
   "source": [
    "# 6호선 지하철 역 중 승차 인원 수가 가장 많은 역명을 quiz_1 변수에 저장합니다.\n",
    "# '~~역'에서 역을 제외한 ~~을 문자형으로 저장합니다.\n",
    "quiz_1 = None"
   ]
  },
  {
   "cell_type": "markdown",
   "metadata": {},
   "source": [
    "### 3.4. 특정 호선의 혼잡 정도와 위치좌표 데이터 병합"
   ]
  },
  {
   "cell_type": "markdown",
   "metadata": {},
   "source": [
    "특정 호선의 지하철 역 마다 지도에 정보를 출력하기 위해서는 각 위치의 좌표정보가 필요합니다.\n",
    "\n",
    "이를 해결하기 위해 카카오 API를 활용하여 csv 파일로 만들어두었습니다.\n",
    "\n",
    "출처: <br>\n",
    "https://developers.kakao.com/docs/latest/ko/local/dev-guide#search-by-keyword<br>\n",
    "https://developers.kakao.com/docs/latest/ko/local/dev-guide#address-coord"
   ]
  },
  {
   "cell_type": "code",
   "execution_count": null,
   "metadata": {
    "scrolled": true
   },
   "outputs": [],
   "source": [
    "# 지하철 역별 위치좌표에 대한 데이터를 불러옵니다.\n",
    "subway_location = pd.read_csv('./data/지하철 역 위치 좌표.csv')\n",
    "subway_location"
   ]
  },
  {
   "cell_type": "markdown",
   "metadata": {},
   "source": [
    "먼저 특정 호선의 역별 평균 승하차 인원 수와 지하철 역별 위치좌표 데이터를 병합하여 데이터프레임을 생성해봅시다."
   ]
  },
  {
   "cell_type": "code",
   "execution_count": null,
   "metadata": {},
   "outputs": [],
   "source": [
    "# 특정 호선의 역별 평균 승하차 인원 수와 지하철 역 위치 좌표를 데이터프레임으로 반환하는 함수입니다.\n",
    "def get_nums_and_location(line, metro_st):\n",
    "    \n",
    "    # 특정 호선의 데이터만 추출합니다.\n",
    "    metro_line_n = metro_st[metro_st['호선명']==line]\n",
    "    \n",
    "    # 승차 인원 컬럼만 추출합니다.\n",
    "    metro_get_on = pd.DataFrame()\n",
    "    metro_get_on['지하철역'] = metro_line_n['지하철역']\n",
    "    for i in range(int((len(metro_recent.columns)-3)/2)):\n",
    "        metro_get_on[metro_line_n.columns[3+2*i]] = metro_line_n[metro_line_n.columns[3+2*i]]\n",
    "    metro_get_on = metro_get_on.set_index('지하철역')\n",
    "    \n",
    "    # 하차 인원 컬럼만 추출합니다.\n",
    "    metro_get_off = pd.DataFrame()\n",
    "    metro_get_off['지하철역'] = metro_line_n['지하철역']\n",
    "    for i in range(int((len(metro_recent.columns)-3)/2)):\n",
    "        metro_get_off[metro_line_n.columns[4+2*i]] = metro_line_n[metro_line_n.columns[4+2*i]]\n",
    "    metro_get_off = metro_get_off.set_index('지하철역')\n",
    "    \n",
    "    # 역 별 평균 승하차 인원을 구한 후 정수로 형 변환하여 데이터프레임으로 저장합니다.\n",
    "    df = pd.DataFrame(index = metro_line_n['지하철역'])\n",
    "    df['평균 승차 인원 수'] = metro_get_on.mean(axis=1).astype(int)\n",
    "    df['평균 하차 인원 수'] = metro_get_off.mean(axis=1).astype(int)\n",
    "    \n",
    "    # 지하철역 명 동일하도록 설정합니다.\n",
    "    temp = []\n",
    "    df = df.reset_index()\n",
    "    for name in df['지하철역']:\n",
    "        temp.append(name.split('(')[0]+'역')\n",
    "    df['지하철역'] = temp\n",
    "    \n",
    "    # 지하철역 명을 기준으로 두 데이터프레임 병합합니다.\n",
    "    df = df.merge(subway_location, left_on='지하철역', right_on='지하철역')\n",
    "    return df"
   ]
  },
  {
   "cell_type": "code",
   "execution_count": null,
   "metadata": {
    "scrolled": true
   },
   "outputs": [],
   "source": [
    "get_nums_and_location('6호선', metro_st)"
   ]
  },
  {
   "cell_type": "markdown",
   "metadata": {},
   "source": [
    "### 3.5. 특정 호선의 혼잡 정도를 지도에 출력"
   ]
  },
  {
   "cell_type": "markdown",
   "metadata": {},
   "source": [
    "지도를 출력하기 위한 라이브러리로 folium을 사용해 봅시다."
   ]
  },
  {
   "cell_type": "code",
   "execution_count": null,
   "metadata": {
    "scrolled": false
   },
   "outputs": [],
   "source": [
    "import folium\n",
    "\n",
    "# 특정 위도, 경도 중심으로 하는 OpenStreetMap을 출력\n",
    "map_osm = folium.Map(location = [37.529622, 126.984307], zoom_start=12)\n",
    "map_osm"
   ]
  },
  {
   "cell_type": "markdown",
   "metadata": {},
   "source": [
    "이제 특정 호선의 역별 평균 승차 인원 수를 원형마커를 통해 지도에 출력해봅시다."
   ]
  },
  {
   "cell_type": "code",
   "execution_count": null,
   "metadata": {
    "scrolled": false
   },
   "outputs": [],
   "source": [
    "# 특정 호선의 역별 평균 승하차 인원 수와 위치좌표 데이터만 추출합니다.\n",
    "rail = '6호선'\n",
    "df = get_nums_and_location(rail, metro_st)\n",
    "\n",
    "# 서울의 중심에 위치하는 명동역의 위도와 경도를 중심으로 지도 출력합니다.\n",
    "latitude = subway_location[subway_location['지하철역']=='명동역']['x좌표']\n",
    "longitude = subway_location[subway_location['지하철역']=='명동역']['y좌표']\n",
    "map_osm = folium.Map(location = [latitude, longitude], zoom_start = 12)\n",
    "\n",
    "# 각 지하철 역의 위치별로 원형마커를 지도에 추가합니다.\n",
    "for i in df.index:\n",
    "    marker = folium.CircleMarker([df['x좌표'][i],df['y좌표'][i]],\n",
    "                        radius = (df['평균 승차 인원 수'][i]+1)/3000, # 인원 수가 0일 때 계산오류 보정\n",
    "                        popup = [df['지하철역'][i],df['평균 승차 인원 수'][i]], \n",
    "                        color = 'blue', \n",
    "                        fill_color = 'blue')\n",
    "    marker.add_to(map_osm)\n",
    "\n",
    "map_osm"
   ]
  },
  {
   "cell_type": "markdown",
   "metadata": {},
   "source": [
    "**퀴즈2. 강남역의 x좌표(위도)를 구하세요.**"
   ]
  },
  {
   "cell_type": "code",
   "execution_count": null,
   "metadata": {},
   "outputs": [],
   "source": [
    "# get_nums_and_location() 함수를 활용하면 쉽게 구할 수 있습니다.\n",
    "# 강남역은 2호선이기 때문에 df = get_nums_and_location('2호선', metro_st)으로 데이터프레임을 추출합니다.\n",
    "# df[df['지하철역']=='강남역']['x좌표']을 통해 컬럼 '지하철역'이 '강남역'인 행을 추출하고 'x좌표'값을 구해보세요.\n",
    "\n",
    "\n"
   ]
  },
  {
   "cell_type": "code",
   "execution_count": null,
   "metadata": {},
   "outputs": [],
   "source": [
    "# float형으로 좌표값만 저장합니다. 예시: 37.123456\n",
    "quiz_2 = None"
   ]
  },
  {
   "cell_type": "markdown",
   "metadata": {},
   "source": [
    "---"
   ]
  },
  {
   "cell_type": "markdown",
   "metadata": {},
   "source": [
    "## 제출하기"
   ]
  },
  {
   "cell_type": "markdown",
   "metadata": {},
   "source": [
    "퀴즈 1번과 2번을 수행 후, 아래 코드를 실행하면 `quiz_1 ~ 2` 변수가 저장된 csv 파일을 제작하여 채점을 받을 수 있습니다.\n",
    "\n",
    "**아래 코드를 수정하면 채점이 불가능 합니다.**"
   ]
  },
  {
   "cell_type": "code",
   "execution_count": null,
   "metadata": {},
   "outputs": [],
   "source": [
    "d = {'quiz_1': [quiz_1], 'quiz_2': [quiz_2]}\n",
    "df_quiz = pd.DataFrame(data=d)\n",
    "df_quiz.to_csv(\"submission.csv\",index=False)"
   ]
  },
  {
   "cell_type": "code",
   "execution_count": null,
   "metadata": {},
   "outputs": [],
   "source": [
    "# 채점을 수행하기 위하여 로그인\n",
    "import sys\n",
    "sys.path.append('vendor')\n",
    "from elice_challenge import check_score, upload"
   ]
  },
  {
   "cell_type": "code",
   "execution_count": null,
   "metadata": {},
   "outputs": [],
   "source": [
    "# 제출 파일 업로드\n",
    "await upload()"
   ]
  },
  {
   "cell_type": "code",
   "execution_count": null,
   "metadata": {},
   "outputs": [],
   "source": [
    "# 채점 수행\n",
    "await check_score()"
   ]
  }
 ],
 "metadata": {
  "kernelspec": {
   "display_name": "Python 3",
   "language": "python",
   "name": "python3"
  },
  "language_info": {
   "codemirror_mode": {
    "name": "ipython",
    "version": 3
   },
   "file_extension": ".py",
   "mimetype": "text/x-python",
   "name": "python",
   "nbconvert_exporter": "python",
   "pygments_lexer": "ipython3",
   "version": "3.8.5"
  },
  "toc": {
   "base_numbering": 1,
   "nav_menu": {},
   "number_sections": false,
   "sideBar": true,
   "skip_h1_title": false,
   "title_cell": "Table of Contents",
   "title_sidebar": "Contents",
   "toc_cell": false,
   "toc_position": {
    "height": "calc(100% - 180px)",
    "left": "10px",
    "top": "150px",
    "width": "384px"
   },
   "toc_section_display": true,
   "toc_window_display": true
  }
 },
 "nbformat": 4,
 "nbformat_minor": 4
}
